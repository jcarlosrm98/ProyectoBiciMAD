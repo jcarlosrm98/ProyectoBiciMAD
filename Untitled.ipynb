{
 "cells": [
  {
   "cell_type": "code",
   "execution_count": 2,
   "id": "f7b1452e",
   "metadata": {},
   "outputs": [],
   "source": [
    "#libraries\n",
    "import pandas as pd\n",
    "import requests as req\n",
    "\n",
    "#meter folium!!"
   ]
  },
  {
   "cell_type": "code",
   "execution_count": 48,
   "id": "2d690785",
   "metadata": {},
   "outputs": [
    {
     "data": {
      "text/html": [
       "<div>\n",
       "<style scoped>\n",
       "    .dataframe tbody tr th:only-of-type {\n",
       "        vertical-align: middle;\n",
       "    }\n",
       "\n",
       "    .dataframe tbody tr th {\n",
       "        vertical-align: top;\n",
       "    }\n",
       "\n",
       "    .dataframe thead th {\n",
       "        text-align: right;\n",
       "    }\n",
       "</style>\n",
       "<table border=\"1\" class=\"dataframe\">\n",
       "  <thead>\n",
       "    <tr style=\"text-align: right;\">\n",
       "      <th></th>\n",
       "      <th>Unnamed: 0</th>\n",
       "      <th>id</th>\n",
       "      <th>name</th>\n",
       "      <th>light</th>\n",
       "      <th>number</th>\n",
       "      <th>address</th>\n",
       "      <th>activate</th>\n",
       "      <th>no_available</th>\n",
       "      <th>total_bases</th>\n",
       "      <th>dock_bikes</th>\n",
       "      <th>free_bases</th>\n",
       "      <th>reservations_count</th>\n",
       "      <th>geometry.type</th>\n",
       "      <th>geometry.coordinates</th>\n",
       "    </tr>\n",
       "  </thead>\n",
       "  <tbody>\n",
       "    <tr>\n",
       "      <th>0</th>\n",
       "      <td>0</td>\n",
       "      <td>1</td>\n",
       "      <td>1a - Puerta del Sol A</td>\n",
       "      <td>3</td>\n",
       "      <td>1a</td>\n",
       "      <td>Puerta del Sol nº 1</td>\n",
       "      <td>1</td>\n",
       "      <td>1</td>\n",
       "      <td>30</td>\n",
       "      <td>0</td>\n",
       "      <td>0</td>\n",
       "      <td>0</td>\n",
       "      <td>Point</td>\n",
       "      <td>[-3.7018341, 40.4172137]</td>\n",
       "    </tr>\n",
       "    <tr>\n",
       "      <th>1</th>\n",
       "      <td>1</td>\n",
       "      <td>2</td>\n",
       "      <td>1b - Puerta del Sol B</td>\n",
       "      <td>3</td>\n",
       "      <td>1b</td>\n",
       "      <td>Puerta del Sol nº 1</td>\n",
       "      <td>1</td>\n",
       "      <td>1</td>\n",
       "      <td>30</td>\n",
       "      <td>0</td>\n",
       "      <td>0</td>\n",
       "      <td>0</td>\n",
       "      <td>Point</td>\n",
       "      <td>[-3.701602938060457, 40.41731271011562]</td>\n",
       "    </tr>\n",
       "    <tr>\n",
       "      <th>2</th>\n",
       "      <td>2</td>\n",
       "      <td>3</td>\n",
       "      <td>2 - Miguel Moya</td>\n",
       "      <td>3</td>\n",
       "      <td>2</td>\n",
       "      <td>Calle Miguel Moya nº 1</td>\n",
       "      <td>1</td>\n",
       "      <td>1</td>\n",
       "      <td>24</td>\n",
       "      <td>0</td>\n",
       "      <td>0</td>\n",
       "      <td>0</td>\n",
       "      <td>Point</td>\n",
       "      <td>[-3.7058415, 40.4205886]</td>\n",
       "    </tr>\n",
       "    <tr>\n",
       "      <th>3</th>\n",
       "      <td>3</td>\n",
       "      <td>4</td>\n",
       "      <td>3 - Plaza Conde Suchil</td>\n",
       "      <td>2</td>\n",
       "      <td>3</td>\n",
       "      <td>Plaza del Conde del Valle de Súchil nº 3</td>\n",
       "      <td>1</td>\n",
       "      <td>0</td>\n",
       "      <td>18</td>\n",
       "      <td>9</td>\n",
       "      <td>9</td>\n",
       "      <td>0</td>\n",
       "      <td>Point</td>\n",
       "      <td>[-3.7069171, 40.4302937]</td>\n",
       "    </tr>\n",
       "    <tr>\n",
       "      <th>4</th>\n",
       "      <td>4</td>\n",
       "      <td>5</td>\n",
       "      <td>4 - Malasaña</td>\n",
       "      <td>1</td>\n",
       "      <td>4</td>\n",
       "      <td>Calle Manuela Malasaña nº 5</td>\n",
       "      <td>1</td>\n",
       "      <td>0</td>\n",
       "      <td>24</td>\n",
       "      <td>23</td>\n",
       "      <td>1</td>\n",
       "      <td>0</td>\n",
       "      <td>Point</td>\n",
       "      <td>[-3.7025875, 40.4285524]</td>\n",
       "    </tr>\n",
       "  </tbody>\n",
       "</table>\n",
       "</div>"
      ],
      "text/plain": [
       "   Unnamed: 0  id                    name  light number  \\\n",
       "0           0   1   1a - Puerta del Sol A      3     1a   \n",
       "1           1   2   1b - Puerta del Sol B      3     1b   \n",
       "2           2   3         2 - Miguel Moya      3      2   \n",
       "3           3   4  3 - Plaza Conde Suchil      2      3   \n",
       "4           4   5            4 - Malasaña      1      4   \n",
       "\n",
       "                                    address  activate  no_available  \\\n",
       "0                       Puerta del Sol nº 1         1             1   \n",
       "1                       Puerta del Sol nº 1         1             1   \n",
       "2                    Calle Miguel Moya nº 1         1             1   \n",
       "3  Plaza del Conde del Valle de Súchil nº 3         1             0   \n",
       "4               Calle Manuela Malasaña nº 5         1             0   \n",
       "\n",
       "   total_bases  dock_bikes  free_bases  reservations_count geometry.type  \\\n",
       "0           30           0           0                   0         Point   \n",
       "1           30           0           0                   0         Point   \n",
       "2           24           0           0                   0         Point   \n",
       "3           18           9           9                   0         Point   \n",
       "4           24          23           1                   0         Point   \n",
       "\n",
       "                      geometry.coordinates  \n",
       "0                 [-3.7018341, 40.4172137]  \n",
       "1  [-3.701602938060457, 40.41731271011562]  \n",
       "2                 [-3.7058415, 40.4205886]  \n",
       "3                 [-3.7069171, 40.4302937]  \n",
       "4                 [-3.7025875, 40.4285524]  "
      ]
     },
     "execution_count": 48,
     "metadata": {},
     "output_type": "execute_result"
    }
   ],
   "source": [
    "#load the csv´s\n",
    "\n",
    "est_bicimad = pd.read_csv(\"C:/IronHack/proyectos/ih_datamadpt0124_project_m1-main/data/bicimad_stations.csv\", sep=\"\\t\")\n",
    "#est_bicipark = pd.read_csv(\"C:/IronHack/proyectos/ih_datamadpt0124_project_m1-main/data/bicipark_stations.csv\", sep=\";\")\n",
    "est_bicimad.head()"
   ]
  },
  {
   "cell_type": "code",
   "execution_count": 3,
   "id": "5792ed23",
   "metadata": {},
   "outputs": [
    {
     "data": {
      "text/plain": [
       "<Response [200]>"
      ]
     },
     "execution_count": 3,
     "metadata": {},
     "output_type": "execute_result"
    }
   ],
   "source": [
    "url = \"https://datos.madrid.es/egob/catalogo/202311-0-colegios-publicos.json\"\n",
    "\n",
    "res = req.get(url)\n",
    "res"
   ]
  },
  {
   "cell_type": "code",
   "execution_count": 9,
   "id": "5edae983",
   "metadata": {},
   "outputs": [
    {
     "data": {
      "text/plain": [
       "'geo:lat'"
      ]
     },
     "execution_count": 9,
     "metadata": {},
     "output_type": "execute_result"
    }
   ],
   "source": [
    "res.json()[\"@context\"][\"latitude\"]"
   ]
  },
  {
   "cell_type": "code",
   "execution_count": 7,
   "id": "821c7ea6",
   "metadata": {},
   "outputs": [
    {
     "data": {
      "text/plain": [
       "<Response [404]>"
      ]
     },
     "execution_count": 7,
     "metadata": {},
     "output_type": "execute_result"
    }
   ],
   "source": [
    "url_res = \"https://openapi.emtmadrid.es/v?/mobilitylabs/user/login/\"\n",
    "\n",
    "req.get(url_res)\n",
    "\n"
   ]
  },
  {
   "cell_type": "code",
   "execution_count": null,
   "id": "d66a1be5",
   "metadata": {},
   "outputs": [],
   "source": []
  }
 ],
 "metadata": {
  "kernelspec": {
   "display_name": "Python 3 (ipykernel)",
   "language": "python",
   "name": "python3"
  },
  "language_info": {
   "codemirror_mode": {
    "name": "ipython",
    "version": 3
   },
   "file_extension": ".py",
   "mimetype": "text/x-python",
   "name": "python",
   "nbconvert_exporter": "python",
   "pygments_lexer": "ipython3",
   "version": "3.11.5"
  }
 },
 "nbformat": 4,
 "nbformat_minor": 5
}
